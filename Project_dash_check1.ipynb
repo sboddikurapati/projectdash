{
 "cells": [
  {
   "cell_type": "code",
   "execution_count": 1,
   "id": "edeaaa6d",
   "metadata": {},
   "outputs": [],
   "source": [
    "### all imports here - we will make requirements document for these\n",
    "import warnings\n",
    "warnings.filterwarnings('ignore')\n",
    "import ipywidgets as widgets\n",
    "from IPython.display import display, clear_output\n",
    "import pandas as pd\n",
    "from geopy import distance\n",
    "import folium"
   ]
  },
  {
   "cell_type": "code",
   "execution_count": 2,
   "id": "92184986",
   "metadata": {},
   "outputs": [
    {
     "name": "stdout",
     "output_type": "stream",
     "text": [
      "Enabling notebook extension jupyter-js-widgets/extension...\n",
      "      - Validating: \u001b[32mOK\u001b[0m\n",
      "Enabling: voila\n",
      "- Writing config: /Users/a0271775/miniconda3/envs/dva_env/etc/jupyter\n",
      "    - Validating...\n",
      "      voila 0.2.16 \u001b[32mOK\u001b[0m\n"
     ]
    }
   ],
   "source": [
    "### this is to enable the widgets/voila in the notebook - only need once per session\n",
    "#!jupyter nbextension enable --py widgetsnbextension --sys-prefix\n",
    "#!jupyter serverextension enable voila --sys-prefix"
   ]
  },
  {
   "cell_type": "code",
   "execution_count": null,
   "id": "49561b03",
   "metadata": {},
   "outputs": [],
   "source": [
    "### Add all sub-module definitions here\n",
    "def distance_calc(row, user_input):\n",
    "    #print('made it')\n",
    "    #print(row)\n",
    "    row_loc = (row['Lat Split'], row['Long Split'])\n",
    "    calc = distance.distance(row_loc, user_input).miles\n",
    "    return calc\n",
    "def label(row):\n",
    "    return_str = \"\"\n",
    "    if not 'UNNAMED' in row['Name']:\n",
    "        return_str = return_str + \"Name: \" + row['Name']\n",
    "    return_str = return_str + \" Event: \" + row['Status']\n",
    "    if row['Maximum Wind'] != -99:\n",
    "        return_str = return_str + \" Max Wind: \" + str(row['Maximum Wind'])\n",
    "    #print(return_str)\n",
    "    return return_str"
   ]
  },
  {
   "cell_type": "code",
   "execution_count": null,
   "id": "af5fa0ba",
   "metadata": {},
   "outputs": [],
   "source": [
    "### read all the csvs\n",
    "storm_df = pd.read_csv('DataAddressUSA.csv')\n",
    "zip_df = pd.read_csv('zipcodes.csv')\n",
    "#fixing the zip codes that start with 00\n",
    "zip_df['zip'] = zip_df['zip'].apply('{:0>5}'.format)\n",
    "#zip_df.head()"
   ]
  },
  {
   "cell_type": "code",
   "execution_count": null,
   "id": "e1e58cf2",
   "metadata": {},
   "outputs": [],
   "source": [
    "### first widget input - zip-code from user\n",
    "#zip_input = input(\"What is your zip code (5 digit code and press enter)?\") ## actual jupyter version\n",
    "zip_text = widgets.Text(placeholder='Your 5-digit zip code')\n",
    "#print(zip_text)"
   ]
  },
  {
   "cell_type": "code",
   "execution_count": null,
   "id": "e65cd188",
   "metadata": {},
   "outputs": [],
   "source": [
    "### call the html page setup here\n",
    "text_0 = widgets.HTML(value=\"<hr /><center><h1>Simplified Dashboard for Hurricane Impact!</h1></center>\")\n",
    "text_desc = widgets.HTML(value=\"<p align=center>Simple interface to identify the impact of hurricanes and floods to your Home and Community. </p>\")\n",
    "text_desc1 = widgets.HTML(value=\"<p align=center>Start with entering your zipcode! </p> <hr />\")\n",
    "label_0 = widgets.Label('Enter Zip Code here:')\n",
    "\n",
    "file = open(\"atl.png\", \"rb\")\n",
    "im_atl = file.read()\n",
    "image_0 = widgets.Image(\n",
    "                    value=im_atl,\n",
    "                    format='png',\n",
    "                    width='100'\n",
    "                )\n",
    "\n",
    "btn_0 = widgets.Button(\n",
    "                description='Show the Map',\n",
    "                tooltip='click here',\n",
    "                style={'description_width': 'initial'}\n",
    "            )\n",
    "out = widgets.Output()\n",
    "def on_button_clicked(event):\n",
    "    with out:\n",
    "        clear_output()\n",
    "        ### use the input to update tables\n",
    "        zip_input = zip_text.value\n",
    "        #print(zip_input)\n",
    "        lat_user = zip_df[zip_df['zip'] == zip_input]['latitude'].values[0]\n",
    "        long_user = zip_df[zip_df['zip'] == zip_input]['longitude'].values[0]\n",
    "        user_input = (lat_user, long_user)\n",
    "        #print(user_input)\n",
    "        storm_df['Distance'] = storm_df.apply(lambda row: distance_calc(row, user_input), axis = 1)\n",
    "        #storm_df_trial = storm_df.loc[1:5, :]\n",
    "        #storm_df_trial['Label'] = storm_df_trial.apply(lambda row: label(row), axis = 1)\n",
    "        storm_df['Label'] = storm_df.apply(lambda row: label(row), axis = 1)\n",
    "        #storm_df.head()\n",
    "        ### put the plot output here\n",
    "        map_USA = folium.Map(location=[lat_user, long_user], zoom_start = 8)\n",
    "        hun_mile_df = storm_df[storm_df['Distance']<=75]\n",
    "        hun_mile_df.head()\n",
    "        locations = hun_mile_df[['Lat Split', 'Long Split']]\n",
    "        locationlist = locations.values.tolist()\n",
    "        userzip = folium.FeatureGroup(name='Your Zip Code')\n",
    "        closestzip = folium.FeatureGroup(name='Neighboring Zip Codes w/ Storms')\n",
    "        userzip.add_to(map_USA)\n",
    "        closestzip.add_to(map_USA)\n",
    "        folium.LayerControl().add_to(map_USA)\n",
    "        for point in range(0, len(locationlist)):\n",
    "            folium.Marker(locationlist[point], popup=storm_df['Label'][point]).add_to(closestzip)\n",
    "        folium.Marker([lat_user, long_user], popup='Your Zipcode', icon=folium.Icon(color='red', icon = 'home')).add_to(userzip)\n",
    "        display(map_USA)\n",
    "btn_0.on_click(on_button_clicked)\n"
   ]
  },
  {
   "cell_type": "code",
   "execution_count": null,
   "id": "183a40a6",
   "metadata": {},
   "outputs": [],
   "source": [
    "### need to call the total widget box with components as needed\n",
    "#vbox_0 = widgets.VBox(children=[image_0], layout=widgets.Layout(align_content='stretch'))\n",
    "vbox_1 = widgets.VBox([text_0, text_desc, text_desc1, label_0, zip_text, btn_0])\n",
    "page = widgets.VBox(children=[vbox_1, out],layout=widgets.Layout(width='90%',align_self='center'))\n",
    "display(page)"
   ]
  },
  {
   "cell_type": "code",
   "execution_count": 4,
   "id": "16da40ee",
   "metadata": {},
   "outputs": [],
   "source": [
    "### end\n",
    "#!pip freeze > requirements.txt"
   ]
  }
 ],
 "metadata": {
  "kernelspec": {
   "display_name": "Python 3 (ipykernel)",
   "language": "python",
   "name": "python3"
  },
  "language_info": {
   "codemirror_mode": {
    "name": "ipython",
    "version": 3
   },
   "file_extension": ".py",
   "mimetype": "text/x-python",
   "name": "python",
   "nbconvert_exporter": "python",
   "pygments_lexer": "ipython3",
   "version": "3.7.11"
  }
 },
 "nbformat": 4,
 "nbformat_minor": 5
}
